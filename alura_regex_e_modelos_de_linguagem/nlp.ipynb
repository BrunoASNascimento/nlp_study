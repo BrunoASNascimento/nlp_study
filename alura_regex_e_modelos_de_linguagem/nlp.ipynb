{
 "cells": [
  {
   "cell_type": "code",
   "execution_count": 1,
   "metadata": {},
   "outputs": [],
   "source": [
    "import pandas as pd\n",
    "import re\n",
    "from sklearn.model_selection import train_test_split\n",
    "from nltk.util import bigrams\n",
    "from nltk.lm.preprocessing import padded_everygram_pipeline, pad_both_ends\n",
    "from nltk.tokenize import WhitespaceTokenizer\n",
    "from nltk.lm import MLE, Laplace"
   ]
  },
  {
   "cell_type": "code",
   "execution_count": 2,
   "metadata": {},
   "outputs": [],
   "source": [
    "df_en = pd.read_csv(\"D:/developer/github.com/projects/nlp_study/data/stackoverflow_ingles.csv\")\n",
    "df_pt = pd.read_csv(\"D:/developer/github.com/projects/nlp_study/data/stackoverflow_portugues.csv\")\n",
    "df_es = pd.read_csv(\"D:/developer/github.com/projects/nlp_study/data/stackoverflow_espanhol.csv\")\n"
   ]
  },
  {
   "cell_type": "code",
   "execution_count": 3,
   "metadata": {},
   "outputs": [
    {
     "data": {
      "text/html": [
       "<div>\n",
       "<style scoped>\n",
       "    .dataframe tbody tr th:only-of-type {\n",
       "        vertical-align: middle;\n",
       "    }\n",
       "\n",
       "    .dataframe tbody tr th {\n",
       "        vertical-align: top;\n",
       "    }\n",
       "\n",
       "    .dataframe thead th {\n",
       "        text-align: right;\n",
       "    }\n",
       "</style>\n",
       "<table border=\"1\" class=\"dataframe\">\n",
       "  <thead>\n",
       "    <tr style=\"text-align: right;\">\n",
       "      <th></th>\n",
       "      <th>Id</th>\n",
       "      <th>Título</th>\n",
       "      <th>Questão</th>\n",
       "      <th>Tags</th>\n",
       "      <th>Pontuação</th>\n",
       "      <th>Visualizações</th>\n",
       "    </tr>\n",
       "  </thead>\n",
       "  <tbody>\n",
       "    <tr>\n",
       "      <th>0</th>\n",
       "      <td>11227809</td>\n",
       "      <td>Why is it faster to process a sorted array tha...</td>\n",
       "      <td>&lt;p&gt;Here is a piece of C++ code that seems very...</td>\n",
       "      <td>&lt;java&gt;&lt;c++&gt;&lt;performance&gt;&lt;optimization&gt;&lt;branch-...</td>\n",
       "      <td>23057</td>\n",
       "      <td>1358574</td>\n",
       "    </tr>\n",
       "    <tr>\n",
       "      <th>1</th>\n",
       "      <td>927358</td>\n",
       "      <td>How do I undo the most recent local commits in...</td>\n",
       "      <td>&lt;p&gt;I accidentally committed the wrong files to...</td>\n",
       "      <td>&lt;git&gt;&lt;version-control&gt;&lt;git-commit&gt;&lt;undo&gt;</td>\n",
       "      <td>19640</td>\n",
       "      <td>7906137</td>\n",
       "    </tr>\n",
       "    <tr>\n",
       "      <th>2</th>\n",
       "      <td>2003505</td>\n",
       "      <td>How do I delete a Git branch locally and remot...</td>\n",
       "      <td>&lt;p&gt;I want to delete a branch both locally and ...</td>\n",
       "      <td>&lt;git&gt;&lt;git-branch&gt;&lt;git-remote&gt;</td>\n",
       "      <td>15249</td>\n",
       "      <td>6940906</td>\n",
       "    </tr>\n",
       "    <tr>\n",
       "      <th>3</th>\n",
       "      <td>292357</td>\n",
       "      <td>What is the difference between 'git pull' and ...</td>\n",
       "      <td>&lt;blockquote&gt;\\n  &lt;p&gt;&lt;strong&gt;Moderator Note:&lt;/st...</td>\n",
       "      <td>&lt;git&gt;&lt;git-pull&gt;&lt;git-fetch&gt;</td>\n",
       "      <td>11008</td>\n",
       "      <td>2543052</td>\n",
       "    </tr>\n",
       "    <tr>\n",
       "      <th>4</th>\n",
       "      <td>477816</td>\n",
       "      <td>What is the correct JSON content type?</td>\n",
       "      <td>&lt;p&gt;I've been messing around with &lt;a href=\"http...</td>\n",
       "      <td>&lt;json&gt;&lt;http-headers&gt;&lt;content-type&gt;</td>\n",
       "      <td>9701</td>\n",
       "      <td>2478940</td>\n",
       "    </tr>\n",
       "  </tbody>\n",
       "</table>\n",
       "</div>"
      ],
      "text/plain": [
       "         Id                                             Título  \\\n",
       "0  11227809  Why is it faster to process a sorted array tha...   \n",
       "1    927358  How do I undo the most recent local commits in...   \n",
       "2   2003505  How do I delete a Git branch locally and remot...   \n",
       "3    292357  What is the difference between 'git pull' and ...   \n",
       "4    477816             What is the correct JSON content type?   \n",
       "\n",
       "                                             Questão  \\\n",
       "0  <p>Here is a piece of C++ code that seems very...   \n",
       "1  <p>I accidentally committed the wrong files to...   \n",
       "2  <p>I want to delete a branch both locally and ...   \n",
       "3  <blockquote>\\n  <p><strong>Moderator Note:</st...   \n",
       "4  <p>I've been messing around with <a href=\"http...   \n",
       "\n",
       "                                                Tags  Pontuação  Visualizações  \n",
       "0  <java><c++><performance><optimization><branch-...      23057        1358574  \n",
       "1           <git><version-control><git-commit><undo>      19640        7906137  \n",
       "2                      <git><git-branch><git-remote>      15249        6940906  \n",
       "3                         <git><git-pull><git-fetch>      11008        2543052  \n",
       "4                 <json><http-headers><content-type>       9701        2478940  "
      ]
     },
     "metadata": {},
     "output_type": "display_data"
    },
    {
     "data": {
      "text/html": [
       "<div>\n",
       "<style scoped>\n",
       "    .dataframe tbody tr th:only-of-type {\n",
       "        vertical-align: middle;\n",
       "    }\n",
       "\n",
       "    .dataframe tbody tr th {\n",
       "        vertical-align: top;\n",
       "    }\n",
       "\n",
       "    .dataframe thead th {\n",
       "        text-align: right;\n",
       "    }\n",
       "</style>\n",
       "<table border=\"1\" class=\"dataframe\">\n",
       "  <thead>\n",
       "    <tr style=\"text-align: right;\">\n",
       "      <th></th>\n",
       "      <th>Id</th>\n",
       "      <th>Título</th>\n",
       "      <th>Questão</th>\n",
       "      <th>Tags</th>\n",
       "      <th>Pontuação</th>\n",
       "      <th>Visualizações</th>\n",
       "    </tr>\n",
       "  </thead>\n",
       "  <tbody>\n",
       "    <tr>\n",
       "      <th>0</th>\n",
       "      <td>2402</td>\n",
       "      <td>Como fazer hash de senhas de forma segura?</td>\n",
       "      <td>&lt;p&gt;Se eu fizer o &lt;em&gt;&lt;a href=\"http://pt.wikipe...</td>\n",
       "      <td>&lt;hash&gt;&lt;segurança&gt;&lt;senhas&gt;&lt;criptografia&gt;</td>\n",
       "      <td>350</td>\n",
       "      <td>22367</td>\n",
       "    </tr>\n",
       "    <tr>\n",
       "      <th>1</th>\n",
       "      <td>6441</td>\n",
       "      <td>Qual é a diferença entre INNER JOIN e OUTER JOIN?</td>\n",
       "      <td>&lt;p&gt;Qual é a diferença entre &lt;code&gt;INNER JOIN&lt;/...</td>\n",
       "      <td>&lt;sql&gt;&lt;join&gt;</td>\n",
       "      <td>276</td>\n",
       "      <td>176953</td>\n",
       "    </tr>\n",
       "    <tr>\n",
       "      <th>2</th>\n",
       "      <td>579</td>\n",
       "      <td>Por que não devemos usar funções do tipo mysql_*?</td>\n",
       "      <td>&lt;p&gt;Uma dúvida muito comum é por que devemos pa...</td>\n",
       "      <td>&lt;php&gt;&lt;mysql&gt;</td>\n",
       "      <td>226</td>\n",
       "      <td>9761</td>\n",
       "    </tr>\n",
       "    <tr>\n",
       "      <th>3</th>\n",
       "      <td>2539</td>\n",
       "      <td>As mensagens de erro devem se desculpar?</td>\n",
       "      <td>&lt;p&gt;É comum encontrar uma mensagem de erro que ...</td>\n",
       "      <td>&lt;aplicação-web&gt;&lt;gui&gt;&lt;console&gt;&lt;ux&gt;</td>\n",
       "      <td>214</td>\n",
       "      <td>5075</td>\n",
       "    </tr>\n",
       "    <tr>\n",
       "      <th>4</th>\n",
       "      <td>17501</td>\n",
       "      <td>Qual é a diferença de API, biblioteca e Framew...</td>\n",
       "      <td>&lt;p&gt;Me parecem termos muito próximos e eventual...</td>\n",
       "      <td>&lt;api&gt;&lt;framework&gt;&lt;terminologia&gt;&lt;biblioteca&gt;</td>\n",
       "      <td>193</td>\n",
       "      <td>54191</td>\n",
       "    </tr>\n",
       "  </tbody>\n",
       "</table>\n",
       "</div>"
      ],
      "text/plain": [
       "      Id                                             Título  \\\n",
       "0   2402         Como fazer hash de senhas de forma segura?   \n",
       "1   6441  Qual é a diferença entre INNER JOIN e OUTER JOIN?   \n",
       "2    579  Por que não devemos usar funções do tipo mysql_*?   \n",
       "3   2539           As mensagens de erro devem se desculpar?   \n",
       "4  17501  Qual é a diferença de API, biblioteca e Framew...   \n",
       "\n",
       "                                             Questão  \\\n",
       "0  <p>Se eu fizer o <em><a href=\"http://pt.wikipe...   \n",
       "1  <p>Qual é a diferença entre <code>INNER JOIN</...   \n",
       "2  <p>Uma dúvida muito comum é por que devemos pa...   \n",
       "3  <p>É comum encontrar uma mensagem de erro que ...   \n",
       "4  <p>Me parecem termos muito próximos e eventual...   \n",
       "\n",
       "                                         Tags  Pontuação  Visualizações  \n",
       "0     <hash><segurança><senhas><criptografia>        350          22367  \n",
       "1                                 <sql><join>        276         176953  \n",
       "2                                <php><mysql>        226           9761  \n",
       "3           <aplicação-web><gui><console><ux>        214           5075  \n",
       "4  <api><framework><terminologia><biblioteca>        193          54191  "
      ]
     },
     "metadata": {},
     "output_type": "display_data"
    },
    {
     "data": {
      "text/html": [
       "<div>\n",
       "<style scoped>\n",
       "    .dataframe tbody tr th:only-of-type {\n",
       "        vertical-align: middle;\n",
       "    }\n",
       "\n",
       "    .dataframe tbody tr th {\n",
       "        vertical-align: top;\n",
       "    }\n",
       "\n",
       "    .dataframe thead th {\n",
       "        text-align: right;\n",
       "    }\n",
       "</style>\n",
       "<table border=\"1\" class=\"dataframe\">\n",
       "  <thead>\n",
       "    <tr style=\"text-align: right;\">\n",
       "      <th></th>\n",
       "      <th>Id</th>\n",
       "      <th>Título</th>\n",
       "      <th>Questão</th>\n",
       "      <th>Tags</th>\n",
       "      <th>Pontuação</th>\n",
       "      <th>Visualizações</th>\n",
       "    </tr>\n",
       "  </thead>\n",
       "  <tbody>\n",
       "    <tr>\n",
       "      <th>0</th>\n",
       "      <td>18232</td>\n",
       "      <td>¿Cómo evitar la inyección SQL en PHP?</td>\n",
       "      <td>&lt;p&gt;Las sentencias dinámicas son sentencias SQL...</td>\n",
       "      <td>&lt;php&gt;&lt;mysql&gt;&lt;sql&gt;&lt;seguridad&gt;&lt;inyección-sql&gt;</td>\n",
       "      <td>169</td>\n",
       "      <td>38614</td>\n",
       "    </tr>\n",
       "    <tr>\n",
       "      <th>1</th>\n",
       "      <td>197</td>\n",
       "      <td>¿Por qué mis programas no pueden hacer cálculo...</td>\n",
       "      <td>&lt;p&gt;Unas veces los cálculos funcionan correctam...</td>\n",
       "      <td>&lt;matemáticas&gt;&lt;coma-flotante&gt;&lt;lenguaje-agnóstico&gt;</td>\n",
       "      <td>141</td>\n",
       "      <td>3860</td>\n",
       "    </tr>\n",
       "    <tr>\n",
       "      <th>2</th>\n",
       "      <td>36</td>\n",
       "      <td>¿Cuál es la diferencia entre un inner y un out...</td>\n",
       "      <td>&lt;p&gt;¿Cuál es la diferencia entre un &lt;code&gt;inner...</td>\n",
       "      <td>&lt;mysql&gt;&lt;sql&gt;&lt;join&gt;</td>\n",
       "      <td>97</td>\n",
       "      <td>53627</td>\n",
       "    </tr>\n",
       "    <tr>\n",
       "      <th>3</th>\n",
       "      <td>29177</td>\n",
       "      <td>¿Por qué es considerado una mala práctica util...</td>\n",
       "      <td>&lt;p&gt;La mayoría de nosotros decimos, (muchas vec...</td>\n",
       "      <td>&lt;variables&gt;&lt;variables-globales&gt;&lt;patrones-de-di...</td>\n",
       "      <td>89</td>\n",
       "      <td>9987</td>\n",
       "    </tr>\n",
       "    <tr>\n",
       "      <th>4</th>\n",
       "      <td>142</td>\n",
       "      <td>Validar un email en JavaScript que acepte todo...</td>\n",
       "      <td>&lt;h3&gt;Pregunta&lt;/h3&gt;\\n\\n&lt;p&gt;¿Cómo validar un e-mai...</td>\n",
       "      <td>&lt;javascript&gt;&lt;validación&gt;&lt;email&gt;&lt;regex&gt;</td>\n",
       "      <td>87</td>\n",
       "      <td>73129</td>\n",
       "    </tr>\n",
       "  </tbody>\n",
       "</table>\n",
       "</div>"
      ],
      "text/plain": [
       "      Id                                             Título  \\\n",
       "0  18232              ¿Cómo evitar la inyección SQL en PHP?   \n",
       "1    197  ¿Por qué mis programas no pueden hacer cálculo...   \n",
       "2     36  ¿Cuál es la diferencia entre un inner y un out...   \n",
       "3  29177  ¿Por qué es considerado una mala práctica util...   \n",
       "4    142  Validar un email en JavaScript que acepte todo...   \n",
       "\n",
       "                                             Questão  \\\n",
       "0  <p>Las sentencias dinámicas son sentencias SQL...   \n",
       "1  <p>Unas veces los cálculos funcionan correctam...   \n",
       "2  <p>¿Cuál es la diferencia entre un <code>inner...   \n",
       "3  <p>La mayoría de nosotros decimos, (muchas vec...   \n",
       "4  <h3>Pregunta</h3>\\n\\n<p>¿Cómo validar un e-mai...   \n",
       "\n",
       "                                                Tags  Pontuação  Visualizações  \n",
       "0        <php><mysql><sql><seguridad><inyección-sql>        169          38614  \n",
       "1   <matemáticas><coma-flotante><lenguaje-agnóstico>        141           3860  \n",
       "2                                 <mysql><sql><join>         97          53627  \n",
       "3  <variables><variables-globales><patrones-de-di...         89           9987  \n",
       "4             <javascript><validación><email><regex>         87          73129  "
      ]
     },
     "metadata": {},
     "output_type": "display_data"
    }
   ],
   "source": [
    "display(df_en.head(5))\n",
    "display(df_pt.head(5))\n",
    "display(df_es.head(5))\n"
   ]
  },
  {
   "cell_type": "code",
   "execution_count": 4,
   "metadata": {},
   "outputs": [
    {
     "data": {
      "text/plain": [
       "['<p>',\n",
       " '<em>',\n",
       " '<a href=\"http://pt.wikipedia.org/wiki/Fun%C3%A7%C3%A3o_de_embaralhamento_criptogr%C3%A1fico\" rel=\"noreferrer\">',\n",
       " '</a>',\n",
       " '</em>',\n",
       " '</p>',\n",
       " '<p>',\n",
       " '<a href=\"http://pt.wikipedia.org/wiki/Ataque_de_for%C3%A7a_bruta\" rel=\"noreferrer\">',\n",
       " '</a>',\n",
       " '<em>',\n",
       " '<a href=\"http://pt.wikipedia.org/wiki/Keylogger\" rel=\"noreferrer\">',\n",
       " '</a>',\n",
       " '</em>',\n",
       " '<a href=\"http://pt.wikipedia.org/wiki/Criptoan%C3%A1lise_de_mangueira_de_borracha\" rel=\"noreferrer\">',\n",
       " '<em>',\n",
       " '</em>',\n",
       " '</a>',\n",
       " '<em>',\n",
       " '</em>',\n",
       " '</p>',\n",
       " '<p>',\n",
       " '</p>',\n",
       " '<p>',\n",
       " '<em>',\n",
       " '</em>',\n",
       " '</p>']"
      ]
     },
     "execution_count": 4,
     "metadata": {},
     "output_type": "execute_result"
    }
   ],
   "source": [
    "re.findall(r\"<.*?>\", df_pt[\"Questão\"][0])"
   ]
  },
  {
   "cell_type": "code",
   "execution_count": 5,
   "metadata": {},
   "outputs": [
    {
     "data": {
      "text/plain": [
       "'Se eu fizer o hash de senhas antes de armazená-las em meu banco de dados é suficiente para evitar que elas sejam recuperadas por alguém?\\n\\nEstou falando apenas da recuperação diretamente do banco de dados e não qualquer outro tipo de ataque, como força bruta na página de login da aplicação, keylogger no cliente e criptoanálise rubberhose. Qualquer forma de hash não vai impedir esses ataques.\\n\\nTenho preocupação em dificultar ou até impossibilitar a obtenção das senhas originais caso o banco de dados seja comprometido. Como dar maior garantia de segurança neste aspecto?\\n\\nQuais preocupações adicionais evitariam o acesso às senhas? Existem formas melhores de fazer esse hash?\\n'"
      ]
     },
     "execution_count": 5,
     "metadata": {},
     "output_type": "execute_result"
    }
   ],
   "source": [
    "re.sub(r\"<.*?>\", \"\",df_pt[\"Questão\"][0])"
   ]
  },
  {
   "cell_type": "code",
   "execution_count": 6,
   "metadata": {},
   "outputs": [
    {
     "data": {
      "text/plain": [
       "'Se eu fizer o hash de senhas antes de armazená-las em meu banco de dados é suficiente para evitar que elas sejam recuperadas por alguém?\\n\\nEstou falando apenas da recuperação diretamente do banco de dados e não qualquer outro tipo de ataque, como força bruta na página de login da aplicação, keylogger no cliente e criptoanálise rubberhose. Qualquer forma de hash não vai impedir esses ataques.\\n\\nTenho preocupação em dificultar ou até impossibilitar a obtenção das senhas originais caso o banco de dados seja comprometido. Como dar maior garantia de segurança neste aspecto?\\n\\nQuais preocupações adicionais evitariam o acesso às senhas? Existem formas melhores de fazer esse hash?\\n'"
      ]
     },
     "execution_count": 6,
     "metadata": {},
     "output_type": "execute_result"
    }
   ],
   "source": [
    "filter_tag = re.compile(r\"<.*?>\")\n",
    "filter_tag.sub(\"\",df_pt[\"Questão\"][0])\n"
   ]
  },
  {
   "cell_type": "markdown",
   "metadata": {},
   "source": [
    "## Function to remove caracter\n"
   ]
  },
  {
   "cell_type": "code",
   "execution_count": 7,
   "metadata": {},
   "outputs": [],
   "source": [
    "def remove_caracter(text_value,regex_value):\n",
    "    return regex_value.sub(\"\",text_value)"
   ]
  },
  {
   "cell_type": "code",
   "execution_count": 8,
   "metadata": {},
   "outputs": [],
   "source": [
    "def sub_code(text_value, regex_value):\n",
    "    return regex_value.sub(\"code\", text_value)\n"
   ]
  },
  {
   "cell_type": "code",
   "execution_count": 9,
   "metadata": {},
   "outputs": [],
   "source": [
    "def sub_space(text_value, regex_value):\n",
    "    return regex_value.sub(\" \", text_value)"
   ]
  },
  {
   "cell_type": "code",
   "execution_count": 10,
   "metadata": {},
   "outputs": [
    {
     "data": {
      "text/plain": [
       "'Se eu fizer o hash de senhas antes de armazená-las em meu banco de dados é suficiente para evitar que elas sejam recuperadas por alguém?\\n\\nEstou falando apenas da recuperação diretamente do banco de dados e não qualquer outro tipo de ataque, como força bruta na página de login da aplicação, keylogger no cliente e criptoanálise rubberhose. Qualquer forma de hash não vai impedir esses ataques.\\n\\nTenho preocupação em dificultar ou até impossibilitar a obtenção das senhas originais caso o banco de dados seja comprometido. Como dar maior garantia de segurança neste aspecto?\\n\\nQuais preocupações adicionais evitariam o acesso às senhas? Existem formas melhores de fazer esse hash?\\n'"
      ]
     },
     "execution_count": 10,
     "metadata": {},
     "output_type": "execute_result"
    }
   ],
   "source": [
    "remove_caracter(df_pt[\"Questão\"][0], filter_tag)\n"
   ]
  },
  {
   "cell_type": "code",
   "execution_count": 11,
   "metadata": {},
   "outputs": [
    {
     "data": {
      "text/plain": [
       "'<p>Here is a piece of C++ code that seems very peculiar. For some strange reason, sorting the data miraculously makes the code almost six times faster.</p>\\n\\n<pre class=\"lang-cpp prettyprint-override\">code</pre>\\n\\n<ul>\\n<li>Without code, the code runs in 11.54 seconds.</li>\\n<li>With the sorted data, the code runs in 1.93 seconds.</li>\\n</ul>\\n\\n<p>Initially, I thought this might be just a language or compiler anomaly. So I tried it in Java.</p>\\n\\n<pre class=\"lang-java prettyprint-override\">code</pre>\\n\\n<p>With a somewhat similar but less extreme result.</p>\\n\\n<hr>\\n\\n<p>My first thought was that sorting brings the data into the cache, but then I thought how silly that is because the array was just generated.</p>\\n\\n<ul>\\n<li>What is going on?</li>\\n<li>Why is it faster to process a sorted array than an unsorted array?</li>\\n<li>The code is summing up some independent terms, and the order should not matter.</li>\\n</ul>\\n'"
      ]
     },
     "execution_count": 11,
     "metadata": {},
     "output_type": "execute_result"
    }
   ],
   "source": [
    "filter_code_tag = re.compile(r\"<code>(.|(\\n))*?</code>\")\n",
    "sub_code(df_en[\"Questão\"][0], filter_code_tag)\n"
   ]
  },
  {
   "cell_type": "code",
   "execution_count": 12,
   "metadata": {},
   "outputs": [],
   "source": [
    "filter_punctuation_and_digit = re.compile(r\"([^\\w\\s]|(\\d+))\")\n",
    "filter_br = re.compile(r\"(\\n)\")\n",
    "filter_spaces = re.compile(r\"\\s+\")\n"
   ]
  },
  {
   "cell_type": "code",
   "execution_count": 13,
   "metadata": {},
   "outputs": [],
   "source": [
    "df_en[\"questions_cleaned\"]=df_en.apply(lambda x: sub_space(remove_caracter(remove_caracter(sub_code(x[\"Questão\"],filter_code_tag),filter_tag),filter_punctuation_and_digit),filter_br),axis=1).str.lower().replace(filter_spaces, ' ', regex=True)\n",
    "df_pt[\"questions_cleaned\"]=df_pt.apply(lambda x: sub_space(remove_caracter(remove_caracter(sub_code(x[\"Questão\"],filter_code_tag),filter_tag),filter_punctuation_and_digit),filter_br),axis=1).str.lower().replace(filter_spaces, ' ', regex=True)\n",
    "df_es[\"questions_cleaned\"]=df_es.apply(lambda x: sub_space(remove_caracter(remove_caracter(sub_code(x[\"Questão\"],filter_code_tag),filter_tag),filter_punctuation_and_digit),filter_br),axis=1).str.lower().replace(filter_spaces, ' ', regex=True)\n"
   ]
  },
  {
   "cell_type": "code",
   "execution_count": 14,
   "metadata": {},
   "outputs": [
    {
     "data": {
      "text/html": [
       "<div>\n",
       "<style scoped>\n",
       "    .dataframe tbody tr th:only-of-type {\n",
       "        vertical-align: middle;\n",
       "    }\n",
       "\n",
       "    .dataframe tbody tr th {\n",
       "        vertical-align: top;\n",
       "    }\n",
       "\n",
       "    .dataframe thead th {\n",
       "        text-align: right;\n",
       "    }\n",
       "</style>\n",
       "<table border=\"1\" class=\"dataframe\">\n",
       "  <thead>\n",
       "    <tr style=\"text-align: right;\">\n",
       "      <th></th>\n",
       "      <th>Id</th>\n",
       "      <th>Título</th>\n",
       "      <th>Questão</th>\n",
       "      <th>Tags</th>\n",
       "      <th>Pontuação</th>\n",
       "      <th>Visualizações</th>\n",
       "      <th>questions_cleaned</th>\n",
       "    </tr>\n",
       "  </thead>\n",
       "  <tbody>\n",
       "    <tr>\n",
       "      <th>0</th>\n",
       "      <td>11227809</td>\n",
       "      <td>Why is it faster to process a sorted array tha...</td>\n",
       "      <td>&lt;p&gt;Here is a piece of C++ code that seems very...</td>\n",
       "      <td>&lt;java&gt;&lt;c++&gt;&lt;performance&gt;&lt;optimization&gt;&lt;branch-...</td>\n",
       "      <td>23057</td>\n",
       "      <td>1358574</td>\n",
       "      <td>here is a piece of c code that seems very pecu...</td>\n",
       "    </tr>\n",
       "    <tr>\n",
       "      <th>1</th>\n",
       "      <td>927358</td>\n",
       "      <td>How do I undo the most recent local commits in...</td>\n",
       "      <td>&lt;p&gt;I accidentally committed the wrong files to...</td>\n",
       "      <td>&lt;git&gt;&lt;version-control&gt;&lt;git-commit&gt;&lt;undo&gt;</td>\n",
       "      <td>19640</td>\n",
       "      <td>7906137</td>\n",
       "      <td>i accidentally committed the wrong files to gi...</td>\n",
       "    </tr>\n",
       "    <tr>\n",
       "      <th>2</th>\n",
       "      <td>2003505</td>\n",
       "      <td>How do I delete a Git branch locally and remot...</td>\n",
       "      <td>&lt;p&gt;I want to delete a branch both locally and ...</td>\n",
       "      <td>&lt;git&gt;&lt;git-branch&gt;&lt;git-remote&gt;</td>\n",
       "      <td>15249</td>\n",
       "      <td>6940906</td>\n",
       "      <td>i want to delete a branch both locally and rem...</td>\n",
       "    </tr>\n",
       "    <tr>\n",
       "      <th>3</th>\n",
       "      <td>292357</td>\n",
       "      <td>What is the difference between 'git pull' and ...</td>\n",
       "      <td>&lt;blockquote&gt;\\n  &lt;p&gt;&lt;strong&gt;Moderator Note:&lt;/st...</td>\n",
       "      <td>&lt;git&gt;&lt;git-pull&gt;&lt;git-fetch&gt;</td>\n",
       "      <td>11008</td>\n",
       "      <td>2543052</td>\n",
       "      <td>moderator note given that this question has a...</td>\n",
       "    </tr>\n",
       "    <tr>\n",
       "      <th>4</th>\n",
       "      <td>477816</td>\n",
       "      <td>What is the correct JSON content type?</td>\n",
       "      <td>&lt;p&gt;I've been messing around with &lt;a href=\"http...</td>\n",
       "      <td>&lt;json&gt;&lt;http-headers&gt;&lt;content-type&gt;</td>\n",
       "      <td>9701</td>\n",
       "      <td>2478940</td>\n",
       "      <td>ive been messing around with json for some tim...</td>\n",
       "    </tr>\n",
       "  </tbody>\n",
       "</table>\n",
       "</div>"
      ],
      "text/plain": [
       "         Id                                             Título  \\\n",
       "0  11227809  Why is it faster to process a sorted array tha...   \n",
       "1    927358  How do I undo the most recent local commits in...   \n",
       "2   2003505  How do I delete a Git branch locally and remot...   \n",
       "3    292357  What is the difference between 'git pull' and ...   \n",
       "4    477816             What is the correct JSON content type?   \n",
       "\n",
       "                                             Questão  \\\n",
       "0  <p>Here is a piece of C++ code that seems very...   \n",
       "1  <p>I accidentally committed the wrong files to...   \n",
       "2  <p>I want to delete a branch both locally and ...   \n",
       "3  <blockquote>\\n  <p><strong>Moderator Note:</st...   \n",
       "4  <p>I've been messing around with <a href=\"http...   \n",
       "\n",
       "                                                Tags  Pontuação  \\\n",
       "0  <java><c++><performance><optimization><branch-...      23057   \n",
       "1           <git><version-control><git-commit><undo>      19640   \n",
       "2                      <git><git-branch><git-remote>      15249   \n",
       "3                         <git><git-pull><git-fetch>      11008   \n",
       "4                 <json><http-headers><content-type>       9701   \n",
       "\n",
       "   Visualizações                                  questions_cleaned  \n",
       "0        1358574  here is a piece of c code that seems very pecu...  \n",
       "1        7906137  i accidentally committed the wrong files to gi...  \n",
       "2        6940906  i want to delete a branch both locally and rem...  \n",
       "3        2543052   moderator note given that this question has a...  \n",
       "4        2478940  ive been messing around with json for some tim...  "
      ]
     },
     "metadata": {},
     "output_type": "display_data"
    },
    {
     "data": {
      "text/html": [
       "<div>\n",
       "<style scoped>\n",
       "    .dataframe tbody tr th:only-of-type {\n",
       "        vertical-align: middle;\n",
       "    }\n",
       "\n",
       "    .dataframe tbody tr th {\n",
       "        vertical-align: top;\n",
       "    }\n",
       "\n",
       "    .dataframe thead th {\n",
       "        text-align: right;\n",
       "    }\n",
       "</style>\n",
       "<table border=\"1\" class=\"dataframe\">\n",
       "  <thead>\n",
       "    <tr style=\"text-align: right;\">\n",
       "      <th></th>\n",
       "      <th>Id</th>\n",
       "      <th>Título</th>\n",
       "      <th>Questão</th>\n",
       "      <th>Tags</th>\n",
       "      <th>Pontuação</th>\n",
       "      <th>Visualizações</th>\n",
       "      <th>questions_cleaned</th>\n",
       "    </tr>\n",
       "  </thead>\n",
       "  <tbody>\n",
       "    <tr>\n",
       "      <th>0</th>\n",
       "      <td>2402</td>\n",
       "      <td>Como fazer hash de senhas de forma segura?</td>\n",
       "      <td>&lt;p&gt;Se eu fizer o &lt;em&gt;&lt;a href=\"http://pt.wikipe...</td>\n",
       "      <td>&lt;hash&gt;&lt;segurança&gt;&lt;senhas&gt;&lt;criptografia&gt;</td>\n",
       "      <td>350</td>\n",
       "      <td>22367</td>\n",
       "      <td>se eu fizer o hash de senhas antes de armazená...</td>\n",
       "    </tr>\n",
       "    <tr>\n",
       "      <th>1</th>\n",
       "      <td>6441</td>\n",
       "      <td>Qual é a diferença entre INNER JOIN e OUTER JOIN?</td>\n",
       "      <td>&lt;p&gt;Qual é a diferença entre &lt;code&gt;INNER JOIN&lt;/...</td>\n",
       "      <td>&lt;sql&gt;&lt;join&gt;</td>\n",
       "      <td>276</td>\n",
       "      <td>176953</td>\n",
       "      <td>qual é a diferença entre code e code podem me ...</td>\n",
       "    </tr>\n",
       "    <tr>\n",
       "      <th>2</th>\n",
       "      <td>579</td>\n",
       "      <td>Por que não devemos usar funções do tipo mysql_*?</td>\n",
       "      <td>&lt;p&gt;Uma dúvida muito comum é por que devemos pa...</td>\n",
       "      <td>&lt;php&gt;&lt;mysql&gt;</td>\n",
       "      <td>226</td>\n",
       "      <td>9761</td>\n",
       "      <td>uma dúvida muito comum é por que devemos parar...</td>\n",
       "    </tr>\n",
       "    <tr>\n",
       "      <th>3</th>\n",
       "      <td>2539</td>\n",
       "      <td>As mensagens de erro devem se desculpar?</td>\n",
       "      <td>&lt;p&gt;É comum encontrar uma mensagem de erro que ...</td>\n",
       "      <td>&lt;aplicação-web&gt;&lt;gui&gt;&lt;console&gt;&lt;ux&gt;</td>\n",
       "      <td>214</td>\n",
       "      <td>5075</td>\n",
       "      <td>é comum encontrar uma mensagem de erro que diz...</td>\n",
       "    </tr>\n",
       "    <tr>\n",
       "      <th>4</th>\n",
       "      <td>17501</td>\n",
       "      <td>Qual é a diferença de API, biblioteca e Framew...</td>\n",
       "      <td>&lt;p&gt;Me parecem termos muito próximos e eventual...</td>\n",
       "      <td>&lt;api&gt;&lt;framework&gt;&lt;terminologia&gt;&lt;biblioteca&gt;</td>\n",
       "      <td>193</td>\n",
       "      <td>54191</td>\n",
       "      <td>me parecem termos muito próximos e eventualmen...</td>\n",
       "    </tr>\n",
       "  </tbody>\n",
       "</table>\n",
       "</div>"
      ],
      "text/plain": [
       "      Id                                             Título  \\\n",
       "0   2402         Como fazer hash de senhas de forma segura?   \n",
       "1   6441  Qual é a diferença entre INNER JOIN e OUTER JOIN?   \n",
       "2    579  Por que não devemos usar funções do tipo mysql_*?   \n",
       "3   2539           As mensagens de erro devem se desculpar?   \n",
       "4  17501  Qual é a diferença de API, biblioteca e Framew...   \n",
       "\n",
       "                                             Questão  \\\n",
       "0  <p>Se eu fizer o <em><a href=\"http://pt.wikipe...   \n",
       "1  <p>Qual é a diferença entre <code>INNER JOIN</...   \n",
       "2  <p>Uma dúvida muito comum é por que devemos pa...   \n",
       "3  <p>É comum encontrar uma mensagem de erro que ...   \n",
       "4  <p>Me parecem termos muito próximos e eventual...   \n",
       "\n",
       "                                         Tags  Pontuação  Visualizações  \\\n",
       "0     <hash><segurança><senhas><criptografia>        350          22367   \n",
       "1                                 <sql><join>        276         176953   \n",
       "2                                <php><mysql>        226           9761   \n",
       "3           <aplicação-web><gui><console><ux>        214           5075   \n",
       "4  <api><framework><terminologia><biblioteca>        193          54191   \n",
       "\n",
       "                                   questions_cleaned  \n",
       "0  se eu fizer o hash de senhas antes de armazená...  \n",
       "1  qual é a diferença entre code e code podem me ...  \n",
       "2  uma dúvida muito comum é por que devemos parar...  \n",
       "3  é comum encontrar uma mensagem de erro que diz...  \n",
       "4  me parecem termos muito próximos e eventualmen...  "
      ]
     },
     "metadata": {},
     "output_type": "display_data"
    },
    {
     "data": {
      "text/html": [
       "<div>\n",
       "<style scoped>\n",
       "    .dataframe tbody tr th:only-of-type {\n",
       "        vertical-align: middle;\n",
       "    }\n",
       "\n",
       "    .dataframe tbody tr th {\n",
       "        vertical-align: top;\n",
       "    }\n",
       "\n",
       "    .dataframe thead th {\n",
       "        text-align: right;\n",
       "    }\n",
       "</style>\n",
       "<table border=\"1\" class=\"dataframe\">\n",
       "  <thead>\n",
       "    <tr style=\"text-align: right;\">\n",
       "      <th></th>\n",
       "      <th>Id</th>\n",
       "      <th>Título</th>\n",
       "      <th>Questão</th>\n",
       "      <th>Tags</th>\n",
       "      <th>Pontuação</th>\n",
       "      <th>Visualizações</th>\n",
       "      <th>questions_cleaned</th>\n",
       "    </tr>\n",
       "  </thead>\n",
       "  <tbody>\n",
       "    <tr>\n",
       "      <th>0</th>\n",
       "      <td>18232</td>\n",
       "      <td>¿Cómo evitar la inyección SQL en PHP?</td>\n",
       "      <td>&lt;p&gt;Las sentencias dinámicas son sentencias SQL...</td>\n",
       "      <td>&lt;php&gt;&lt;mysql&gt;&lt;sql&gt;&lt;seguridad&gt;&lt;inyección-sql&gt;</td>\n",
       "      <td>169</td>\n",
       "      <td>38614</td>\n",
       "      <td>las sentencias dinámicas son sentencias sql qu...</td>\n",
       "    </tr>\n",
       "    <tr>\n",
       "      <th>1</th>\n",
       "      <td>197</td>\n",
       "      <td>¿Por qué mis programas no pueden hacer cálculo...</td>\n",
       "      <td>&lt;p&gt;Unas veces los cálculos funcionan correctam...</td>\n",
       "      <td>&lt;matemáticas&gt;&lt;coma-flotante&gt;&lt;lenguaje-agnóstico&gt;</td>\n",
       "      <td>141</td>\n",
       "      <td>3860</td>\n",
       "      <td>unas veces los cálculos funcionan correctament...</td>\n",
       "    </tr>\n",
       "    <tr>\n",
       "      <th>2</th>\n",
       "      <td>36</td>\n",
       "      <td>¿Cuál es la diferencia entre un inner y un out...</td>\n",
       "      <td>&lt;p&gt;¿Cuál es la diferencia entre un &lt;code&gt;inner...</td>\n",
       "      <td>&lt;mysql&gt;&lt;sql&gt;&lt;join&gt;</td>\n",
       "      <td>97</td>\n",
       "      <td>53627</td>\n",
       "      <td>cuál es la diferencia entre un code y un code ...</td>\n",
       "    </tr>\n",
       "    <tr>\n",
       "      <th>3</th>\n",
       "      <td>29177</td>\n",
       "      <td>¿Por qué es considerado una mala práctica util...</td>\n",
       "      <td>&lt;p&gt;La mayoría de nosotros decimos, (muchas vec...</td>\n",
       "      <td>&lt;variables&gt;&lt;variables-globales&gt;&lt;patrones-de-di...</td>\n",
       "      <td>89</td>\n",
       "      <td>9987</td>\n",
       "      <td>la mayoría de nosotros decimos muchas veces si...</td>\n",
       "    </tr>\n",
       "    <tr>\n",
       "      <th>4</th>\n",
       "      <td>142</td>\n",
       "      <td>Validar un email en JavaScript que acepte todo...</td>\n",
       "      <td>&lt;h3&gt;Pregunta&lt;/h3&gt;\\n\\n&lt;p&gt;¿Cómo validar un e-mai...</td>\n",
       "      <td>&lt;javascript&gt;&lt;validación&gt;&lt;email&gt;&lt;regex&gt;</td>\n",
       "      <td>87</td>\n",
       "      <td>73129</td>\n",
       "      <td>pregunta cómo validar un email que acepte todo...</td>\n",
       "    </tr>\n",
       "  </tbody>\n",
       "</table>\n",
       "</div>"
      ],
      "text/plain": [
       "      Id                                             Título  \\\n",
       "0  18232              ¿Cómo evitar la inyección SQL en PHP?   \n",
       "1    197  ¿Por qué mis programas no pueden hacer cálculo...   \n",
       "2     36  ¿Cuál es la diferencia entre un inner y un out...   \n",
       "3  29177  ¿Por qué es considerado una mala práctica util...   \n",
       "4    142  Validar un email en JavaScript que acepte todo...   \n",
       "\n",
       "                                             Questão  \\\n",
       "0  <p>Las sentencias dinámicas son sentencias SQL...   \n",
       "1  <p>Unas veces los cálculos funcionan correctam...   \n",
       "2  <p>¿Cuál es la diferencia entre un <code>inner...   \n",
       "3  <p>La mayoría de nosotros decimos, (muchas vec...   \n",
       "4  <h3>Pregunta</h3>\\n\\n<p>¿Cómo validar un e-mai...   \n",
       "\n",
       "                                                Tags  Pontuação  \\\n",
       "0        <php><mysql><sql><seguridad><inyección-sql>        169   \n",
       "1   <matemáticas><coma-flotante><lenguaje-agnóstico>        141   \n",
       "2                                 <mysql><sql><join>         97   \n",
       "3  <variables><variables-globales><patrones-de-di...         89   \n",
       "4             <javascript><validación><email><regex>         87   \n",
       "\n",
       "   Visualizações                                  questions_cleaned  \n",
       "0          38614  las sentencias dinámicas son sentencias sql qu...  \n",
       "1           3860  unas veces los cálculos funcionan correctament...  \n",
       "2          53627  cuál es la diferencia entre un code y un code ...  \n",
       "3           9987  la mayoría de nosotros decimos muchas veces si...  \n",
       "4          73129  pregunta cómo validar un email que acepte todo...  "
      ]
     },
     "metadata": {},
     "output_type": "display_data"
    }
   ],
   "source": [
    "display(df_en.head(5))\n",
    "display(df_pt.head(5))\n",
    "display(df_es.head(5))\n"
   ]
  },
  {
   "cell_type": "code",
   "execution_count": 15,
   "metadata": {},
   "outputs": [
    {
     "name": "stdout",
     "output_type": "stream",
     "text": [
      "[('a', 'l'), ('l', 'u'), ('u', 'r'), ('r', 'a')]\n"
     ]
    }
   ],
   "source": [
    "text_test = \"alura\"\n",
    "print(list(bigrams(text_test)))"
   ]
  },
  {
   "cell_type": "code",
   "execution_count": 16,
   "metadata": {},
   "outputs": [
    {
     "name": "stdout",
     "output_type": "stream",
     "text": [
      "[('<s>', 'a'), ('a', 'l'), ('l', 'u'), ('u', 'r'), ('r', 'a'), ('a', '</s>')]\n"
     ]
    }
   ],
   "source": [
    "print(list(bigrams(pad_both_ends(text_test, n=2))))\n"
   ]
  },
  {
   "cell_type": "code",
   "execution_count": 17,
   "metadata": {},
   "outputs": [],
   "source": [
    "df_en[\"language\"] = \"English\"\n",
    "df_pt[\"language\"] = \"Portuguese\"\n",
    "df_es[\"language\"] = \"Spanish\""
   ]
  },
  {
   "cell_type": "code",
   "execution_count": 18,
   "metadata": {},
   "outputs": [],
   "source": [
    "rendom_state_value=123\n",
    "\n",
    "question_en_train, question_en_test = train_test_split(\n",
    "    df_en[\"questions_cleaned\"], test_size=0.2, random_state=rendom_state_value)\n",
    "question_pt_train, question_pt_test = train_test_split(\n",
    "    df_pt[\"questions_cleaned\"],test_size=0.2,random_state= rendom_state_value)\n",
    "question_es_train, question_es_test = train_test_split(\n",
    "    df_es[\"questions_cleaned\"], test_size=0.2, random_state=rendom_state_value)"
   ]
  },
  {
   "cell_type": "code",
   "execution_count": 19,
   "metadata": {},
   "outputs": [
    {
     "name": "stdout",
     "output_type": "stream",
     "text": [
      "[INFO] Size all_words_en: 21510.\n",
      "[INFO] Size all_words_pt: 36716.\n",
      "[INFO] Size all_words_es: 41248.\n"
     ]
    }
   ],
   "source": [
    "all_words_en = WhitespaceTokenizer().tokenize(' '.join(question_en_train))\n",
    "all_words_pt = WhitespaceTokenizer().tokenize(' '.join(question_pt_train))\n",
    "all_words_es = WhitespaceTokenizer().tokenize(' '.join(question_es_train))\n",
    "\n",
    "print(f\"[INFO] Size all_words_en: {len(all_words_en)}.\")\n",
    "print(f\"[INFO] Size all_words_pt: {len(all_words_pt)}.\")\n",
    "print(f\"[INFO] Size all_words_es: {len(all_words_es)}.\")\n"
   ]
  },
  {
   "cell_type": "code",
   "execution_count": 20,
   "metadata": {},
   "outputs": [],
   "source": [
    "train_bigram_en, vocabulary_en = padded_everygram_pipeline(\n",
    "    order=2, text=all_words_en)\n",
    "train_bigram_pt, vocabulary_pt = padded_everygram_pipeline(\n",
    "    order=2, text=all_words_pt)\n",
    "train_bigram_es, vocabulary_es = padded_everygram_pipeline(\n",
    "    order=2, text=all_words_es)\n"
   ]
  },
  {
   "cell_type": "code",
   "execution_count": 21,
   "metadata": {},
   "outputs": [],
   "source": [
    "model_pt = MLE(2)\n",
    "model_pt.fit(train_bigram_pt, vocabulary_pt)\n"
   ]
  },
  {
   "cell_type": "code",
   "execution_count": 22,
   "metadata": {},
   "outputs": [
    {
     "data": {
      "text/plain": [
       "['e', 's', 'ã', 'o', '</s>', 'o']"
      ]
     },
     "execution_count": 22,
     "metadata": {},
     "output_type": "execute_result"
    }
   ],
   "source": [
    "model_pt.generate(num_words=6)"
   ]
  },
  {
   "cell_type": "code",
   "execution_count": 23,
   "metadata": {},
   "outputs": [
    {
     "data": {
      "text/plain": [
       "dict_items([('</s>', 2741), ('a', 2052), ('b', 144), ('p', 722), ('o', 854), ('e', 1503), ('u', 227), ('v', 16), ('í', 13), ('i', 290), ('ó', 37), ('â', 11), ('l', 23), ('é', 76), ('ú', 5), ('ã', 4), ('á', 32), ('s', 9), ('m', 25), ('g', 4), ('w', 1), ('_', 1), ('y', 10), ('d', 3)])"
      ]
     },
     "execution_count": 23,
     "metadata": {},
     "output_type": "execute_result"
    }
   ],
   "source": [
    "model_pt.counts[['m']].items()"
   ]
  },
  {
   "cell_type": "code",
   "execution_count": 24,
   "metadata": {},
   "outputs": [
    {
     "data": {
      "text/plain": [
       "[[('<s>', 'b'), ('b', 'o'), ('o', 'm'), ('m', '</s>')],\n",
       " [('<s>', 'd'), ('d', 'i'), ('i', 'a'), ('a', '</s>')]]"
      ]
     },
     "execution_count": 24,
     "metadata": {},
     "output_type": "execute_result"
    }
   ],
   "source": [
    "text_test = \"bom dia\"\n",
    "\n",
    "words_bigramns = [\n",
    "    list(bigrams(text_value))\n",
    "    for text_value in [list(pad_both_ends(text_value, n=2)) for text_value in WhitespaceTokenizer().tokenize(text_test)]\n",
    "]\n",
    "words_bigramns\n"
   ]
  },
  {
   "cell_type": "code",
   "execution_count": 25,
   "metadata": {},
   "outputs": [
    {
     "name": "stdout",
     "output_type": "stream",
     "text": [
      "15.299125474590992\n",
      "8.118290440853844\n"
     ]
    }
   ],
   "source": [
    "# The closer to zero the better\n",
    "\n",
    "print(model_pt.perplexity(words_bigramns[0]))\n",
    "print(model_pt.perplexity(words_bigramns[1]))\n"
   ]
  },
  {
   "cell_type": "code",
   "execution_count": 26,
   "metadata": {},
   "outputs": [],
   "source": [
    "def train_model_mle(list_texts):\n",
    "    all_words = WhitespaceTokenizer().tokenize(' '.join(list_texts))\n",
    "    all_words_bigrams, vocabulary = padded_everygram_pipeline(\n",
    "        order=2, text=all_words)\n",
    "    model = MLE(2)\n",
    "    model.fit(all_words_bigrams, vocabulary)\n",
    "    return model"
   ]
  },
  {
   "cell_type": "code",
   "execution_count": 27,
   "metadata": {},
   "outputs": [],
   "source": [
    "model_en_mle = train_model_mle(question_en_train)\n",
    "model_pt_mle = train_model_mle(question_pt_train)\n",
    "model_es_mle = train_model_mle(question_es_train)\n"
   ]
  },
  {
   "cell_type": "code",
   "execution_count": 28,
   "metadata": {},
   "outputs": [
    {
     "name": "stdout",
     "output_type": "stream",
     "text": [
      "[INFO] model_en_mle perplexity: 13.207626654673446\n",
      "[INFO] model_en_mle perplexity: 22.271365866014612\n",
      "[INFO] model_pt_mle perplexity: 15.299125474590992\n",
      "[INFO] model_pt_mle perplexity: 8.118290440853844\n",
      "[INFO] model_es_mle perplexity: 43.952855947940236\n",
      "[INFO] model_es_mle perplexity: 9.179377380281396\n"
     ]
    }
   ],
   "source": [
    "print(f\"[INFO] model_en_mle perplexity: {model_en_mle.perplexity(words_bigramns[0])}\")\n",
    "print(f\"[INFO] model_en_mle perplexity: {model_en_mle.perplexity(words_bigramns[1])}\")\n",
    "print(f\"[INFO] model_pt_mle perplexity: {model_pt_mle.perplexity(words_bigramns[0])}\")\n",
    "print(f\"[INFO] model_pt_mle perplexity: {model_pt_mle.perplexity(words_bigramns[1])}\")\n",
    "print(f\"[INFO] model_es_mle perplexity: {model_es_mle.perplexity(words_bigramns[0])}\")\n",
    "print(f\"[INFO] model_es_mle perplexity: {model_es_mle.perplexity(words_bigramns[1])}\")\n"
   ]
  },
  {
   "cell_type": "code",
   "execution_count": 29,
   "metadata": {},
   "outputs": [],
   "source": [
    "def calculate_perplexity(model, text):\n",
    "    perplexity_sum = 0\n",
    "    words_bigramns = [\n",
    "        list(bigrams(text_value))\n",
    "        for text_value in [list(pad_both_ends(text_value, n=2)) for text_value in WhitespaceTokenizer().tokenize(text)]\n",
    "    ]\n",
    "    for word in words_bigramns:\n",
    "        perplexity_sum += model.perplexity(word)\n",
    "\n",
    "    return perplexity_sum\n"
   ]
  },
  {
   "cell_type": "code",
   "execution_count": 30,
   "metadata": {},
   "outputs": [
    {
     "data": {
      "text/plain": [
       "35.47899252068806"
      ]
     },
     "execution_count": 30,
     "metadata": {},
     "output_type": "execute_result"
    }
   ],
   "source": [
    "calculate_perplexity(model_en_mle, text_test)\n"
   ]
  },
  {
   "cell_type": "code",
   "execution_count": 31,
   "metadata": {},
   "outputs": [
    {
     "data": {
      "text/plain": [
       "379.69233961579755"
      ]
     },
     "execution_count": 31,
     "metadata": {},
     "output_type": "execute_result"
    }
   ],
   "source": [
    "calculate_perplexity(model_pt_mle, question_pt_train.iloc[0])\n"
   ]
  },
  {
   "cell_type": "code",
   "execution_count": 32,
   "metadata": {},
   "outputs": [
    {
     "data": {
      "text/plain": [
       "inf"
      ]
     },
     "execution_count": 32,
     "metadata": {},
     "output_type": "execute_result"
    }
   ],
   "source": [
    "calculate_perplexity(model_en_mle, question_pt_train.iloc[0])\n"
   ]
  },
  {
   "cell_type": "code",
   "execution_count": 33,
   "metadata": {},
   "outputs": [],
   "source": [
    "def train_model_laplace(list_texts):\n",
    "    all_words = WhitespaceTokenizer().tokenize(' '.join(list_texts))\n",
    "    all_words_bigrams, vocabulary = padded_everygram_pipeline(\n",
    "        order=2, text=all_words)\n",
    "    model = Laplace(2)\n",
    "    model.fit(all_words_bigrams, vocabulary)\n",
    "    return model\n"
   ]
  },
  {
   "cell_type": "code",
   "execution_count": 34,
   "metadata": {},
   "outputs": [],
   "source": [
    "model_en_laplace = train_model_laplace(question_en_train)\n",
    "model_pt_laplace = train_model_laplace(question_pt_train)\n",
    "model_es_laplace = train_model_laplace(question_es_train)\n"
   ]
  },
  {
   "cell_type": "code",
   "execution_count": 35,
   "metadata": {},
   "outputs": [
    {
     "name": "stdout",
     "output_type": "stream",
     "text": [
      "[INFO] model_en_laplace perplexity: 1458.1098881610562.\n",
      "[INFO] model_pt_laplace perplexity: 380.66088848279304.\n",
      "[INFO] model_es_laplace perplexity: 693.2541308511308.\n"
     ]
    }
   ],
   "source": [
    "print(\n",
    "    f\"[INFO] model_en_laplace perplexity: {calculate_perplexity(model_en_laplace, question_pt_train.iloc[0])}.\")\n",
    "print(\n",
    "    f\"[INFO] model_pt_laplace perplexity: {calculate_perplexity(model_pt_laplace, question_pt_train.iloc[0])}.\")\n",
    "print(\n",
    "    f\"[INFO] model_es_laplace perplexity: {calculate_perplexity(model_es_laplace, question_pt_train.iloc[0])}.\")\n"
   ]
  },
  {
   "cell_type": "code",
   "execution_count": 36,
   "metadata": {},
   "outputs": [],
   "source": [
    "def assign_language(list_texts):\n",
    "    language_list =[]\n",
    "    for text_value in list_texts:\n",
    "        english = calculate_perplexity(model_en_laplace,text_value) \n",
    "        portuguese = calculate_perplexity(model_pt_laplace,text_value) \n",
    "        spanish = calculate_perplexity(model_es_laplace,text_value) \n",
    "        if english>=portuguese <=spanish:\n",
    "            language_list.append(\"Portuguese\")\n",
    "        elif portuguese>english<spanish:\n",
    "            language_list.append(\"English\")\n",
    "        else:\n",
    "            language_list.append(\"Spanish\")\n",
    "    return language_list\n",
    "\n"
   ]
  },
  {
   "cell_type": "code",
   "execution_count": 37,
   "metadata": {},
   "outputs": [],
   "source": [
    "result_en = assign_language(question_en_test)\n",
    "result_pt = assign_language(question_pt_test)\n",
    "result_es = assign_language(question_es_test)\n"
   ]
  },
  {
   "cell_type": "code",
   "execution_count": 38,
   "metadata": {},
   "outputs": [
    {
     "name": "stdout",
     "output_type": "stream",
     "text": [
      "[INFO] Accuracy English: 100.0%.\n",
      "[INFO] Accuracy Portuguese: 100.0%.\n",
      "[INFO] Accuracy Spanish: 97.0%.\n"
     ]
    }
   ],
   "source": [
    "print(f\"[INFO] Accuracy English: {100*result_en.count('English')/ len(question_en_test):.1f}%.\")\n",
    "print(f\"[INFO] Accuracy Portuguese: {100*result_pt.count('Portuguese')/ len(question_pt_test):.1f}%.\")\n",
    "print(f\"[INFO] Accuracy Spanish: {100*result_es.count('Spanish')/ len(question_es_test):.1f}%.\")\n"
   ]
  }
 ],
 "metadata": {
  "interpreter": {
   "hash": "3b6ee8eeee55b517b9e8d7e7ba57624778cc9259bf80d32b34ba31e7edaf4af1"
  },
  "kernelspec": {
   "display_name": "Python 3.8.8 64-bit ('study': conda)",
   "name": "python3"
  },
  "language_info": {
   "codemirror_mode": {
    "name": "ipython",
    "version": 3
   },
   "file_extension": ".py",
   "mimetype": "text/x-python",
   "name": "python",
   "nbconvert_exporter": "python",
   "pygments_lexer": "ipython3",
   "version": "3.8.11"
  },
  "orig_nbformat": 4
 },
 "nbformat": 4,
 "nbformat_minor": 2
}
