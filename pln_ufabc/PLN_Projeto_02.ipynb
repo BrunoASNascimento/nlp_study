{
  "nbformat": 4,
  "nbformat_minor": 0,
  "metadata": {
    "colab": {
      "name": "PLN - Projeto 02.ipynb",
      "provenance": [],
      "authorship_tag": "ABX9TyNkBZDQP6SMnJjlzKPHE45I",
      "include_colab_link": true
    },
    "kernelspec": {
      "name": "python3",
      "display_name": "Python 3"
    },
    "language_info": {
      "name": "python"
    }
  },
  "cells": [
    {
      "cell_type": "markdown",
      "metadata": {
        "id": "view-in-github",
        "colab_type": "text"
      },
      "source": [
        "<a href=\"https://colab.research.google.com/github/BrunoASNascimento/nlp_study/blob/develop/pln_ufabc/PLN_Projeto_02.ipynb\" target=\"_parent\"><img src=\"https://colab.research.google.com/assets/colab-badge.svg\" alt=\"Open In Colab\"/></a>"
      ]
    },
    {
      "cell_type": "markdown",
      "metadata": {
        "id": "6_niAnjcJHeY"
      },
      "source": [
        "**Nome:** Bruno Araújo Santos do Nascimento\n",
        "\n",
        "**RA:** 11201720606"
      ]
    },
    {
      "cell_type": "code",
      "metadata": {
        "id": "KTiymCN1I38u"
      },
      "source": [
        ""
      ],
      "execution_count": null,
      "outputs": []
    }
  ]
}